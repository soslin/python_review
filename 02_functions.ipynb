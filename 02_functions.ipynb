{
 "cells": [
  {
   "cell_type": "code",
   "execution_count": 3,
   "metadata": {},
   "outputs": [
    {
     "name": "stdout",
     "output_type": "stream",
     "text": [
      "9\n"
     ]
    }
   ],
   "source": [
    "max_num = max([1,6,3,8,2,7,9])\n",
    "print(max_num)\n"
   ]
  },
  {
   "cell_type": "code",
   "execution_count": 6,
   "metadata": {},
   "outputs": [
    {
     "name": "stdout",
     "output_type": "stream",
     "text": [
      "HEY, THERE !!!\n",
      "None\n"
     ]
    }
   ],
   "source": [
    "def shout(message):\n",
    "    print(message.upper(), '!!!')\n",
    "return_value = shout('hey, there') #none type\n",
    "print(return_value)"
   ]
  },
  {
   "cell_type": "code",
   "execution_count": 24,
   "metadata": {},
   "outputs": [],
   "source": [
    "#default values\n",
    "\n",
    "def phrase(name = 'Hello', name2 = 'world!!!'):\n",
    "    return '{}, {}!'.format(name, name2)"
   ]
  },
  {
   "cell_type": "code",
   "execution_count": 25,
   "metadata": {},
   "outputs": [
    {
     "data": {
      "text/plain": [
       "'Hello, world!!!!'"
      ]
     },
     "execution_count": 25,
     "metadata": {},
     "output_type": "execute_result"
    }
   ],
   "source": [
    "phrase()"
   ]
  },
  {
   "cell_type": "markdown",
   "metadata": {},
   "source": [
    "#### global & local variables"
   ]
  },
  {
   "cell_type": "code",
   "execution_count": 37,
   "metadata": {},
   "outputs": [
    {
     "name": "stdout",
     "output_type": "stream",
     "text": [
      "Inside the universe: 42\n",
      "Outside the universe: 42\n"
     ]
    }
   ],
   "source": [
    "global_variable = 42\n",
    "\n",
    "def meaning_universe():\n",
    "    print(f'Inside the universe: {global_variable}') #local\n",
    "\n",
    "meaning_universe()\n",
    "print(f'Outside the universe: {global_variable}') #global"
   ]
  },
  {
   "cell_type": "markdown",
   "metadata": {},
   "source": [
    "#### shadowing"
   ]
  },
  {
   "cell_type": "code",
   "execution_count": 38,
   "metadata": {},
   "outputs": [
    {
     "name": "stdout",
     "output_type": "stream",
     "text": [
      "Outside the function, n == 123\n",
      "Inside the function, n == 7\n",
      "Outside the function, n == 123\n"
     ]
    }
   ],
   "source": [
    "n = 123\n",
    "\n",
    "def randomfunction():\n",
    "    n = 10\n",
    "    n = n - 3\n",
    "    print(f'Inside the function, n == {n}')\n",
    "\n",
    "print(f'Outside the function, n == {n}')\n",
    "randomfunction() #calling the function\n",
    "print(f'Outside the function, n == {n}')"
   ]
  },
  {
   "cell_type": "markdown",
   "metadata": {},
   "source": [
    "#### lambda functions\n",
    "For functions that contain a single return statement in the function body, python provides a lambda function. This is a function that accepts 0 or more inputs, and only executes a single return statement (note the return keyword is implied and not required)."
   ]
  },
  {
   "cell_type": "code",
   "execution_count": 39,
   "metadata": {},
   "outputs": [
    {
     "data": {
      "text/plain": [
       "42"
      ]
     },
     "execution_count": 39,
     "metadata": {},
     "output_type": "execute_result"
    }
   ],
   "source": [
    "add_one_digit = lambda n: n + 1\n",
    "add_one_digit(41)"
   ]
  },
  {
   "cell_type": "code",
   "execution_count": 40,
   "metadata": {},
   "outputs": [
    {
     "data": {
      "text/plain": [
       "3.605551275463989"
      ]
     },
     "execution_count": 40,
     "metadata": {},
     "output_type": "execute_result"
    }
   ],
   "source": [
    "sq_root = lambda n: n**.5\n",
    "sq_root(13)"
   ]
  },
  {
   "cell_type": "code",
   "execution_count": null,
   "metadata": {},
   "outputs": [],
   "source": []
  }
 ],
 "metadata": {
  "kernelspec": {
   "display_name": "Python 3",
   "language": "python",
   "name": "python3"
  },
  "language_info": {
   "codemirror_mode": {
    "name": "ipython",
    "version": 3
   },
   "file_extension": ".py",
   "mimetype": "text/x-python",
   "name": "python",
   "nbconvert_exporter": "python",
   "pygments_lexer": "ipython3",
   "version": "3.7.3"
  }
 },
 "nbformat": 4,
 "nbformat_minor": 2
}
